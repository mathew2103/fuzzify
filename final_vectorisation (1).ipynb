{
 "cells": [
  {
   "cell_type": "markdown",
   "metadata": {
    "id": "-k_9tRICFWRh"
   },
   "source": [
    "# Installation:-"
   ]
  },
  {
   "cell_type": "code",
   "execution_count": null,
   "metadata": {
    "id": "iYIXdlYsm0Yu"
   },
   "outputs": [
    {
     "name": "stdout",
     "output_type": "stream",
     "text": [
      "Requirement already satisfied: chromadb in /usr/local/lib/python3.10/dist-packages (0.5.20)\n",
      "Requirement already satisfied: epitran in /usr/local/lib/python3.10/dist-packages (1.25.1)\n",
      "Requirement already satisfied: panphon in /usr/local/lib/python3.10/dist-packages (0.21.2)\n",
      "Requirement already satisfied: numpy in /usr/local/lib/python3.10/dist-packages (2.1.3)\n",
      "Requirement already satisfied: typer>=0.9.0 in /usr/local/lib/python3.10/dist-packages (from chromadb) (0.13.1)\n",
      "Requirement already satisfied: typing-extensions>=4.5.0 in /usr/local/lib/python3.10/dist-packages (from chromadb) (4.12.2)\n",
      "Requirement already satisfied: httpx>=0.27.0 in /usr/local/lib/python3.10/dist-packages (from chromadb) (0.27.2)\n",
      "Requirement already satisfied: chroma-hnswlib==0.7.6 in /usr/local/lib/python3.10/dist-packages (from chromadb) (0.7.6)\n",
      "Requirement already satisfied: rich>=10.11.0 in /usr/local/lib/python3.10/dist-packages (from chromadb) (13.9.4)\n",
      "Requirement already satisfied: PyYAML>=6.0.0 in /usr/local/lib/python3.10/dist-packages (from chromadb) (6.0.2)\n",
      "Requirement already satisfied: mmh3>=4.0.1 in /usr/local/lib/python3.10/dist-packages (from chromadb) (5.0.1)\n",
      "Requirement already satisfied: kubernetes>=28.1.0 in /usr/local/lib/python3.10/dist-packages (from chromadb) (31.0.0)\n",
      "Requirement already satisfied: tqdm>=4.65.0 in /usr/local/lib/python3.10/dist-packages (from chromadb) (4.67.0)\n",
      "Requirement already satisfied: tenacity>=8.2.3 in /usr/local/lib/python3.10/dist-packages (from chromadb) (9.0.0)\n",
      "Requirement already satisfied: overrides>=7.3.1 in /usr/local/lib/python3.10/dist-packages (from chromadb) (7.7.0)\n",
      "Requirement already satisfied: orjson>=3.9.12 in /usr/local/lib/python3.10/dist-packages (from chromadb) (3.10.11)\n",
      "Requirement already satisfied: opentelemetry-exporter-otlp-proto-grpc>=1.2.0 in /usr/local/lib/python3.10/dist-packages (from chromadb) (1.28.2)\n",
      "Requirement already satisfied: tokenizers>=0.13.2 in /usr/local/lib/python3.10/dist-packages (from chromadb) (0.20.3)\n",
      "Requirement already satisfied: uvicorn[standard]>=0.18.3 in /usr/local/lib/python3.10/dist-packages (from chromadb) (0.32.1)\n",
      "Requirement already satisfied: onnxruntime>=1.14.1 in /usr/local/lib/python3.10/dist-packages (from chromadb) (1.20.1)\n",
      "Requirement already satisfied: opentelemetry-instrumentation-fastapi>=0.41b0 in /usr/local/lib/python3.10/dist-packages (from chromadb) (0.49b2)\n",
      "Requirement already satisfied: pypika>=0.48.9 in /usr/local/lib/python3.10/dist-packages (from chromadb) (0.48.9)\n",
      "Requirement already satisfied: importlib-resources in /usr/local/lib/python3.10/dist-packages (from chromadb) (6.4.5)\n",
      "Requirement already satisfied: build>=1.0.3 in /usr/local/lib/python3.10/dist-packages (from chromadb) (1.2.2.post1)\n",
      "Requirement already satisfied: bcrypt>=4.0.1 in /usr/local/lib/python3.10/dist-packages (from chromadb) (4.2.1)\n",
      "Requirement already satisfied: pydantic>=1.9 in /usr/local/lib/python3.10/dist-packages (from chromadb) (2.10.1)\n",
      "Requirement already satisfied: grpcio>=1.58.0 in /usr/local/lib/python3.10/dist-packages (from chromadb) (1.68.0)\n",
      "Requirement already satisfied: opentelemetry-api>=1.2.0 in /usr/local/lib/python3.10/dist-packages (from chromadb) (1.28.2)\n",
      "Requirement already satisfied: fastapi>=0.95.2 in /usr/local/lib/python3.10/dist-packages (from chromadb) (0.115.5)\n",
      "Requirement already satisfied: posthog>=2.4.0 in /usr/local/lib/python3.10/dist-packages (from chromadb) (3.7.2)\n",
      "Requirement already satisfied: opentelemetry-sdk>=1.2.0 in /usr/local/lib/python3.10/dist-packages (from chromadb) (1.28.2)\n",
      "Requirement already satisfied: g2pk in /usr/local/lib/python3.10/dist-packages (from epitran) (0.9.4)\n",
      "Requirement already satisfied: setuptools in /usr/lib/python3/dist-packages (from epitran) (59.6.0)\n",
      "Requirement already satisfied: marisa-trie in /usr/local/lib/python3.10/dist-packages (from epitran) (1.2.1)\n",
      "Requirement already satisfied: requests in /usr/lib/python3/dist-packages (from epitran) (2.25.1)\n",
      "Requirement already satisfied: regex in /usr/local/lib/python3.10/dist-packages (from epitran) (2024.11.6)\n",
      "Requirement already satisfied: jamo in /usr/local/lib/python3.10/dist-packages (from epitran) (0.4.1)\n",
      "Requirement already satisfied: unicodecsv in /usr/local/lib/python3.10/dist-packages (from panphon) (0.14.1)\n",
      "Requirement already satisfied: editdistance in /usr/local/lib/python3.10/dist-packages (from panphon) (0.8.1)\n",
      "Requirement already satisfied: munkres in /usr/local/lib/python3.10/dist-packages (from panphon) (1.1.4)\n",
      "Requirement already satisfied: tomli>=1.1.0 in /usr/local/lib/python3.10/dist-packages (from build>=1.0.3->chromadb) (2.1.0)\n",
      "Requirement already satisfied: pyproject_hooks in /usr/local/lib/python3.10/dist-packages (from build>=1.0.3->chromadb) (1.2.0)\n",
      "Requirement already satisfied: packaging>=19.1 in /usr/local/lib/python3.10/dist-packages (from build>=1.0.3->chromadb) (24.2)\n",
      "Requirement already satisfied: starlette<0.42.0,>=0.40.0 in /usr/local/lib/python3.10/dist-packages (from fastapi>=0.95.2->chromadb) (0.41.3)\n",
      "Requirement already satisfied: httpcore==1.* in /usr/local/lib/python3.10/dist-packages (from httpx>=0.27.0->chromadb) (1.0.7)\n",
      "Requirement already satisfied: sniffio in /usr/local/lib/python3.10/dist-packages (from httpx>=0.27.0->chromadb) (1.3.1)\n",
      "Requirement already satisfied: idna in /usr/lib/python3/dist-packages (from httpx>=0.27.0->chromadb) (3.3)\n",
      "Requirement already satisfied: certifi in /usr/lib/python3/dist-packages (from httpx>=0.27.0->chromadb) (2020.6.20)\n",
      "Requirement already satisfied: anyio in /usr/local/lib/python3.10/dist-packages (from httpx>=0.27.0->chromadb) (4.6.2.post1)\n",
      "Requirement already satisfied: h11<0.15,>=0.13 in /usr/local/lib/python3.10/dist-packages (from httpcore==1.*->httpx>=0.27.0->chromadb) (0.14.0)\n",
      "Requirement already satisfied: six>=1.9.0 in /usr/lib/python3/dist-packages (from kubernetes>=28.1.0->chromadb) (1.16.0)\n",
      "Requirement already satisfied: websocket-client!=0.40.0,!=0.41.*,!=0.42.*,>=0.32.0 in /usr/local/lib/python3.10/dist-packages (from kubernetes>=28.1.0->chromadb) (1.8.0)\n",
      "Requirement already satisfied: google-auth>=1.0.1 in /usr/local/lib/python3.10/dist-packages (from kubernetes>=28.1.0->chromadb) (2.36.0)\n",
      "Requirement already satisfied: python-dateutil>=2.5.3 in /usr/local/lib/python3.10/dist-packages (from kubernetes>=28.1.0->chromadb) (2.9.0.post0)\n",
      "Requirement already satisfied: durationpy>=0.7 in /usr/local/lib/python3.10/dist-packages (from kubernetes>=28.1.0->chromadb) (0.9)\n",
      "Requirement already satisfied: requests-oauthlib in /usr/local/lib/python3.10/dist-packages (from kubernetes>=28.1.0->chromadb) (2.0.0)\n",
      "Requirement already satisfied: oauthlib>=3.2.2 in /usr/local/lib/python3.10/dist-packages (from kubernetes>=28.1.0->chromadb) (3.2.2)\n",
      "Requirement already satisfied: urllib3>=1.24.2 in /usr/lib/python3/dist-packages (from kubernetes>=28.1.0->chromadb) (1.26.5)\n",
      "Requirement already satisfied: protobuf in /usr/local/lib/python3.10/dist-packages (from onnxruntime>=1.14.1->chromadb) (5.28.3)\n",
      "Requirement already satisfied: flatbuffers in /usr/local/lib/python3.10/dist-packages (from onnxruntime>=1.14.1->chromadb) (24.3.25)\n",
      "Requirement already satisfied: sympy in /usr/local/lib/python3.10/dist-packages (from onnxruntime>=1.14.1->chromadb) (1.13.3)\n",
      "Requirement already satisfied: coloredlogs in /usr/local/lib/python3.10/dist-packages (from onnxruntime>=1.14.1->chromadb) (15.0.1)\n",
      "Requirement already satisfied: deprecated>=1.2.6 in /usr/local/lib/python3.10/dist-packages (from opentelemetry-api>=1.2.0->chromadb) (1.2.15)\n",
      "Requirement already satisfied: importlib-metadata<=8.5.0,>=6.0 in /usr/local/lib/python3.10/dist-packages (from opentelemetry-api>=1.2.0->chromadb) (8.5.0)\n",
      "Requirement already satisfied: opentelemetry-proto==1.28.2 in /usr/local/lib/python3.10/dist-packages (from opentelemetry-exporter-otlp-proto-grpc>=1.2.0->chromadb) (1.28.2)\n",
      "Requirement already satisfied: opentelemetry-exporter-otlp-proto-common==1.28.2 in /usr/local/lib/python3.10/dist-packages (from opentelemetry-exporter-otlp-proto-grpc>=1.2.0->chromadb) (1.28.2)\n",
      "Requirement already satisfied: googleapis-common-protos~=1.52 in /usr/local/lib/python3.10/dist-packages (from opentelemetry-exporter-otlp-proto-grpc>=1.2.0->chromadb) (1.66.0)\n",
      "Requirement already satisfied: opentelemetry-instrumentation==0.49b2 in /usr/local/lib/python3.10/dist-packages (from opentelemetry-instrumentation-fastapi>=0.41b0->chromadb) (0.49b2)\n",
      "Requirement already satisfied: opentelemetry-instrumentation-asgi==0.49b2 in /usr/local/lib/python3.10/dist-packages (from opentelemetry-instrumentation-fastapi>=0.41b0->chromadb) (0.49b2)\n",
      "Requirement already satisfied: opentelemetry-util-http==0.49b2 in /usr/local/lib/python3.10/dist-packages (from opentelemetry-instrumentation-fastapi>=0.41b0->chromadb) (0.49b2)\n",
      "Requirement already satisfied: opentelemetry-semantic-conventions==0.49b2 in /usr/local/lib/python3.10/dist-packages (from opentelemetry-instrumentation-fastapi>=0.41b0->chromadb) (0.49b2)\n",
      "Requirement already satisfied: wrapt<2.0.0,>=1.0.0 in /usr/local/lib/python3.10/dist-packages (from opentelemetry-instrumentation==0.49b2->opentelemetry-instrumentation-fastapi>=0.41b0->chromadb) (1.17.0)\n",
      "Requirement already satisfied: asgiref~=3.0 in /usr/local/lib/python3.10/dist-packages (from opentelemetry-instrumentation-asgi==0.49b2->opentelemetry-instrumentation-fastapi>=0.41b0->chromadb) (3.8.1)\n",
      "Requirement already satisfied: monotonic>=1.5 in /usr/local/lib/python3.10/dist-packages (from posthog>=2.4.0->chromadb) (1.6)\n",
      "Requirement already satisfied: backoff>=1.10.0 in /usr/local/lib/python3.10/dist-packages (from posthog>=2.4.0->chromadb) (2.2.1)\n",
      "Requirement already satisfied: annotated-types>=0.6.0 in /usr/local/lib/python3.10/dist-packages (from pydantic>=1.9->chromadb) (0.7.0)\n",
      "Requirement already satisfied: pydantic-core==2.27.1 in /usr/local/lib/python3.10/dist-packages (from pydantic>=1.9->chromadb) (2.27.1)\n",
      "Requirement already satisfied: markdown-it-py>=2.2.0 in /usr/local/lib/python3.10/dist-packages (from rich>=10.11.0->chromadb) (3.0.0)\n",
      "Requirement already satisfied: pygments<3.0.0,>=2.13.0 in /usr/local/lib/python3.10/dist-packages (from rich>=10.11.0->chromadb) (2.18.0)\n",
      "Requirement already satisfied: huggingface-hub<1.0,>=0.16.4 in /usr/local/lib/python3.10/dist-packages (from tokenizers>=0.13.2->chromadb) (0.26.2)\n",
      "Requirement already satisfied: shellingham>=1.3.0 in /usr/local/lib/python3.10/dist-packages (from typer>=0.9.0->chromadb) (1.5.4)\n",
      "Requirement already satisfied: click>=8.0.0 in /usr/local/lib/python3.10/dist-packages (from typer>=0.9.0->chromadb) (8.1.7)\n",
      "Requirement already satisfied: uvloop!=0.15.0,!=0.15.1,>=0.14.0 in /usr/local/lib/python3.10/dist-packages (from uvicorn[standard]>=0.18.3->chromadb) (0.21.0)\n",
      "Requirement already satisfied: watchfiles>=0.13 in /usr/local/lib/python3.10/dist-packages (from uvicorn[standard]>=0.18.3->chromadb) (0.24.0)\n",
      "Requirement already satisfied: httptools>=0.6.3 in /usr/local/lib/python3.10/dist-packages (from uvicorn[standard]>=0.18.3->chromadb) (0.6.4)\n",
      "Requirement already satisfied: python-dotenv>=0.13 in /usr/local/lib/python3.10/dist-packages (from uvicorn[standard]>=0.18.3->chromadb) (1.0.1)\n",
      "Requirement already satisfied: websockets>=10.4 in /usr/local/lib/python3.10/dist-packages (from uvicorn[standard]>=0.18.3->chromadb) (14.1)\n",
      "Requirement already satisfied: konlpy in /usr/local/lib/python3.10/dist-packages (from g2pk->epitran) (0.6.0)\n",
      "Requirement already satisfied: nltk in /usr/local/lib/python3.10/dist-packages (from g2pk->epitran) (3.9.1)\n",
      "Requirement already satisfied: python-mecab-ko in /usr/local/lib/python3.10/dist-packages (from g2pk->epitran) (1.3.7)\n",
      "Requirement already satisfied: rsa<5,>=3.1.4 in /usr/local/lib/python3.10/dist-packages (from google-auth>=1.0.1->kubernetes>=28.1.0->chromadb) (4.9)\n",
      "Requirement already satisfied: pyasn1-modules>=0.2.1 in /usr/lib/python3/dist-packages (from google-auth>=1.0.1->kubernetes>=28.1.0->chromadb) (0.2.1)\n",
      "Requirement already satisfied: cachetools<6.0,>=2.0.0 in /usr/local/lib/python3.10/dist-packages (from google-auth>=1.0.1->kubernetes>=28.1.0->chromadb) (5.5.0)\n",
      "Requirement already satisfied: filelock in /usr/local/lib/python3.10/dist-packages (from huggingface-hub<1.0,>=0.16.4->tokenizers>=0.13.2->chromadb) (3.16.1)\n",
      "Requirement already satisfied: fsspec>=2023.5.0 in /usr/local/lib/python3.10/dist-packages (from huggingface-hub<1.0,>=0.16.4->tokenizers>=0.13.2->chromadb) (2024.10.0)\n",
      "Requirement already satisfied: zipp>=3.20 in /usr/local/lib/python3.10/dist-packages (from importlib-metadata<=8.5.0,>=6.0->opentelemetry-api>=1.2.0->chromadb) (3.21.0)\n",
      "Requirement already satisfied: mdurl~=0.1 in /usr/local/lib/python3.10/dist-packages (from markdown-it-py>=2.2.0->rich>=10.11.0->chromadb) (0.1.2)\n",
      "Requirement already satisfied: exceptiongroup>=1.0.2 in /usr/local/lib/python3.10/dist-packages (from anyio->httpx>=0.27.0->chromadb) (1.2.2)\n",
      "Requirement already satisfied: humanfriendly>=9.1 in /usr/local/lib/python3.10/dist-packages (from coloredlogs->onnxruntime>=1.14.1->chromadb) (10.0)\n",
      "Requirement already satisfied: JPype1>=0.7.0 in /usr/local/lib/python3.10/dist-packages (from konlpy->g2pk->epitran) (1.5.1)\n",
      "Requirement already satisfied: lxml>=4.1.0 in /usr/local/lib/python3.10/dist-packages (from konlpy->g2pk->epitran) (5.3.0)\n",
      "Requirement already satisfied: joblib in /usr/local/lib/python3.10/dist-packages (from nltk->g2pk->epitran) (1.4.2)\n",
      "Requirement already satisfied: python-mecab-ko-dic in /usr/local/lib/python3.10/dist-packages (from python-mecab-ko->g2pk->epitran) (2.1.1.post2)\n",
      "Requirement already satisfied: mpmath<1.4,>=1.1.0 in /usr/local/lib/python3.10/dist-packages (from sympy->onnxruntime>=1.14.1->chromadb) (1.3.0)\n",
      "Requirement already satisfied: pyasn1>=0.1.3 in /usr/lib/python3/dist-packages (from rsa<5,>=3.1.4->google-auth>=1.0.1->kubernetes>=28.1.0->chromadb) (0.4.8)\n",
      "\u001b[33mWARNING: Running pip as the 'root' user can result in broken permissions and conflicting behaviour with the system package manager. It is recommended to use a virtual environment instead: https://pip.pypa.io/warnings/venv\u001b[0m\u001b[33m\n",
      "\u001b[0m"
     ]
    }
   ],
   "source": [
    "!pip install chromadb epitran panphon numpy"
   ]
  },
  {
   "cell_type": "markdown",
   "metadata": {
    "id": "7c7ZCesnnSWt"
   },
   "source": [
    "## To install epitran dependencies:-"
   ]
  },
  {
   "cell_type": "code",
   "execution_count": 63,
   "metadata": {},
   "outputs": [
    {
     "name": "stdout",
     "output_type": "stream",
     "text": [
      "Requirement already satisfied: chromadb in /usr/local/lib/python3.10/dist-packages (0.5.20)\n",
      "Requirement already satisfied: epitran in /usr/local/lib/python3.10/dist-packages (1.25.1)\n",
      "Requirement already satisfied: panphon in /usr/local/lib/python3.10/dist-packages (0.21.2)\n",
      "Requirement already satisfied: numpy in /usr/local/lib/python3.10/dist-packages (2.1.3)\n",
      "Requirement already satisfied: uvicorn[standard]>=0.18.3 in /usr/local/lib/python3.10/dist-packages (from chromadb) (0.32.1)\n",
      "Requirement already satisfied: build>=1.0.3 in /usr/local/lib/python3.10/dist-packages (from chromadb) (1.2.2.post1)\n",
      "Requirement already satisfied: opentelemetry-instrumentation-fastapi>=0.41b0 in /usr/local/lib/python3.10/dist-packages (from chromadb) (0.49b2)\n",
      "Requirement already satisfied: httpx>=0.27.0 in /usr/local/lib/python3.10/dist-packages (from chromadb) (0.27.2)\n",
      "Requirement already satisfied: PyYAML>=6.0.0 in /usr/local/lib/python3.10/dist-packages (from chromadb) (6.0.2)\n",
      "Requirement already satisfied: tenacity>=8.2.3 in /usr/local/lib/python3.10/dist-packages (from chromadb) (9.0.0)\n",
      "Requirement already satisfied: onnxruntime>=1.14.1 in /usr/local/lib/python3.10/dist-packages (from chromadb) (1.20.1)\n",
      "Requirement already satisfied: tqdm>=4.65.0 in /usr/local/lib/python3.10/dist-packages (from chromadb) (4.67.0)\n",
      "Requirement already satisfied: fastapi>=0.95.2 in /usr/local/lib/python3.10/dist-packages (from chromadb) (0.115.5)\n",
      "Requirement already satisfied: posthog>=2.4.0 in /usr/local/lib/python3.10/dist-packages (from chromadb) (3.7.2)\n",
      "Requirement already satisfied: typing-extensions>=4.5.0 in /usr/local/lib/python3.10/dist-packages (from chromadb) (4.12.2)\n",
      "Requirement already satisfied: rich>=10.11.0 in /usr/local/lib/python3.10/dist-packages (from chromadb) (13.9.4)\n",
      "Requirement already satisfied: bcrypt>=4.0.1 in /usr/local/lib/python3.10/dist-packages (from chromadb) (4.2.1)\n",
      "Requirement already satisfied: pypika>=0.48.9 in /usr/local/lib/python3.10/dist-packages (from chromadb) (0.48.9)\n",
      "Requirement already satisfied: overrides>=7.3.1 in /usr/local/lib/python3.10/dist-packages (from chromadb) (7.7.0)\n",
      "Requirement already satisfied: opentelemetry-exporter-otlp-proto-grpc>=1.2.0 in /usr/local/lib/python3.10/dist-packages (from chromadb) (1.28.2)\n",
      "Requirement already satisfied: grpcio>=1.58.0 in /usr/local/lib/python3.10/dist-packages (from chromadb) (1.68.0)\n",
      "Requirement already satisfied: tokenizers>=0.13.2 in /usr/local/lib/python3.10/dist-packages (from chromadb) (0.20.3)\n",
      "Requirement already satisfied: orjson>=3.9.12 in /usr/local/lib/python3.10/dist-packages (from chromadb) (3.10.11)\n",
      "Requirement already satisfied: kubernetes>=28.1.0 in /usr/local/lib/python3.10/dist-packages (from chromadb) (31.0.0)\n",
      "Requirement already satisfied: opentelemetry-api>=1.2.0 in /usr/local/lib/python3.10/dist-packages (from chromadb) (1.28.2)\n",
      "Requirement already satisfied: importlib-resources in /usr/local/lib/python3.10/dist-packages (from chromadb) (6.4.5)\n",
      "Requirement already satisfied: opentelemetry-sdk>=1.2.0 in /usr/local/lib/python3.10/dist-packages (from chromadb) (1.28.2)\n",
      "Requirement already satisfied: pydantic>=1.9 in /usr/local/lib/python3.10/dist-packages (from chromadb) (2.10.1)\n",
      "Requirement already satisfied: mmh3>=4.0.1 in /usr/local/lib/python3.10/dist-packages (from chromadb) (5.0.1)\n",
      "Requirement already satisfied: typer>=0.9.0 in /usr/local/lib/python3.10/dist-packages (from chromadb) (0.13.1)\n",
      "Requirement already satisfied: chroma-hnswlib==0.7.6 in /usr/local/lib/python3.10/dist-packages (from chromadb) (0.7.6)\n",
      "Requirement already satisfied: g2pk in /usr/local/lib/python3.10/dist-packages (from epitran) (0.9.4)\n",
      "Requirement already satisfied: requests in /usr/lib/python3/dist-packages (from epitran) (2.25.1)\n",
      "Requirement already satisfied: setuptools in /usr/lib/python3/dist-packages (from epitran) (59.6.0)\n",
      "Requirement already satisfied: regex in /usr/local/lib/python3.10/dist-packages (from epitran) (2024.11.6)\n",
      "Requirement already satisfied: jamo in /usr/local/lib/python3.10/dist-packages (from epitran) (0.4.1)\n",
      "Requirement already satisfied: marisa-trie in /usr/local/lib/python3.10/dist-packages (from epitran) (1.2.1)\n",
      "Requirement already satisfied: munkres in /usr/local/lib/python3.10/dist-packages (from panphon) (1.1.4)\n",
      "Requirement already satisfied: editdistance in /usr/local/lib/python3.10/dist-packages (from panphon) (0.8.1)\n",
      "Requirement already satisfied: unicodecsv in /usr/local/lib/python3.10/dist-packages (from panphon) (0.14.1)\n",
      "Requirement already satisfied: tomli>=1.1.0 in /usr/local/lib/python3.10/dist-packages (from build>=1.0.3->chromadb) (2.1.0)\n",
      "Requirement already satisfied: packaging>=19.1 in /usr/local/lib/python3.10/dist-packages (from build>=1.0.3->chromadb) (24.2)\n",
      "Requirement already satisfied: pyproject_hooks in /usr/local/lib/python3.10/dist-packages (from build>=1.0.3->chromadb) (1.2.0)\n",
      "Requirement already satisfied: starlette<0.42.0,>=0.40.0 in /usr/local/lib/python3.10/dist-packages (from fastapi>=0.95.2->chromadb) (0.41.3)\n",
      "Requirement already satisfied: anyio in /usr/local/lib/python3.10/dist-packages (from httpx>=0.27.0->chromadb) (4.6.2.post1)\n",
      "Requirement already satisfied: certifi in /usr/lib/python3/dist-packages (from httpx>=0.27.0->chromadb) (2020.6.20)\n",
      "Requirement already satisfied: sniffio in /usr/local/lib/python3.10/dist-packages (from httpx>=0.27.0->chromadb) (1.3.1)\n",
      "Requirement already satisfied: httpcore==1.* in /usr/local/lib/python3.10/dist-packages (from httpx>=0.27.0->chromadb) (1.0.7)\n",
      "Requirement already satisfied: idna in /usr/lib/python3/dist-packages (from httpx>=0.27.0->chromadb) (3.3)\n",
      "Requirement already satisfied: h11<0.15,>=0.13 in /usr/local/lib/python3.10/dist-packages (from httpcore==1.*->httpx>=0.27.0->chromadb) (0.14.0)\n",
      "Requirement already satisfied: durationpy>=0.7 in /usr/local/lib/python3.10/dist-packages (from kubernetes>=28.1.0->chromadb) (0.9)\n",
      "Requirement already satisfied: six>=1.9.0 in /usr/lib/python3/dist-packages (from kubernetes>=28.1.0->chromadb) (1.16.0)\n",
      "Requirement already satisfied: python-dateutil>=2.5.3 in /usr/local/lib/python3.10/dist-packages (from kubernetes>=28.1.0->chromadb) (2.9.0.post0)\n",
      "Requirement already satisfied: requests-oauthlib in /usr/local/lib/python3.10/dist-packages (from kubernetes>=28.1.0->chromadb) (2.0.0)\n",
      "Requirement already satisfied: oauthlib>=3.2.2 in /usr/local/lib/python3.10/dist-packages (from kubernetes>=28.1.0->chromadb) (3.2.2)\n",
      "Requirement already satisfied: urllib3>=1.24.2 in /usr/lib/python3/dist-packages (from kubernetes>=28.1.0->chromadb) (1.26.5)\n",
      "Requirement already satisfied: websocket-client!=0.40.0,!=0.41.*,!=0.42.*,>=0.32.0 in /usr/local/lib/python3.10/dist-packages (from kubernetes>=28.1.0->chromadb) (1.8.0)\n",
      "Requirement already satisfied: google-auth>=1.0.1 in /usr/local/lib/python3.10/dist-packages (from kubernetes>=28.1.0->chromadb) (2.36.0)\n",
      "Requirement already satisfied: sympy in /usr/local/lib/python3.10/dist-packages (from onnxruntime>=1.14.1->chromadb) (1.13.3)\n",
      "Requirement already satisfied: flatbuffers in /usr/local/lib/python3.10/dist-packages (from onnxruntime>=1.14.1->chromadb) (24.3.25)\n",
      "Requirement already satisfied: protobuf in /usr/local/lib/python3.10/dist-packages (from onnxruntime>=1.14.1->chromadb) (5.28.3)\n",
      "Requirement already satisfied: coloredlogs in /usr/local/lib/python3.10/dist-packages (from onnxruntime>=1.14.1->chromadb) (15.0.1)\n",
      "Requirement already satisfied: deprecated>=1.2.6 in /usr/local/lib/python3.10/dist-packages (from opentelemetry-api>=1.2.0->chromadb) (1.2.15)\n",
      "Requirement already satisfied: importlib-metadata<=8.5.0,>=6.0 in /usr/local/lib/python3.10/dist-packages (from opentelemetry-api>=1.2.0->chromadb) (8.5.0)\n",
      "Requirement already satisfied: opentelemetry-exporter-otlp-proto-common==1.28.2 in /usr/local/lib/python3.10/dist-packages (from opentelemetry-exporter-otlp-proto-grpc>=1.2.0->chromadb) (1.28.2)\n",
      "Requirement already satisfied: opentelemetry-proto==1.28.2 in /usr/local/lib/python3.10/dist-packages (from opentelemetry-exporter-otlp-proto-grpc>=1.2.0->chromadb) (1.28.2)\n",
      "Requirement already satisfied: googleapis-common-protos~=1.52 in /usr/local/lib/python3.10/dist-packages (from opentelemetry-exporter-otlp-proto-grpc>=1.2.0->chromadb) (1.66.0)\n",
      "Requirement already satisfied: opentelemetry-util-http==0.49b2 in /usr/local/lib/python3.10/dist-packages (from opentelemetry-instrumentation-fastapi>=0.41b0->chromadb) (0.49b2)\n",
      "Requirement already satisfied: opentelemetry-semantic-conventions==0.49b2 in /usr/local/lib/python3.10/dist-packages (from opentelemetry-instrumentation-fastapi>=0.41b0->chromadb) (0.49b2)\n",
      "Requirement already satisfied: opentelemetry-instrumentation-asgi==0.49b2 in /usr/local/lib/python3.10/dist-packages (from opentelemetry-instrumentation-fastapi>=0.41b0->chromadb) (0.49b2)\n",
      "Requirement already satisfied: opentelemetry-instrumentation==0.49b2 in /usr/local/lib/python3.10/dist-packages (from opentelemetry-instrumentation-fastapi>=0.41b0->chromadb) (0.49b2)\n",
      "Requirement already satisfied: wrapt<2.0.0,>=1.0.0 in /usr/local/lib/python3.10/dist-packages (from opentelemetry-instrumentation==0.49b2->opentelemetry-instrumentation-fastapi>=0.41b0->chromadb) (1.17.0)\n",
      "Requirement already satisfied: asgiref~=3.0 in /usr/local/lib/python3.10/dist-packages (from opentelemetry-instrumentation-asgi==0.49b2->opentelemetry-instrumentation-fastapi>=0.41b0->chromadb) (3.8.1)\n",
      "Requirement already satisfied: backoff>=1.10.0 in /usr/local/lib/python3.10/dist-packages (from posthog>=2.4.0->chromadb) (2.2.1)\n",
      "Requirement already satisfied: monotonic>=1.5 in /usr/local/lib/python3.10/dist-packages (from posthog>=2.4.0->chromadb) (1.6)\n",
      "Requirement already satisfied: annotated-types>=0.6.0 in /usr/local/lib/python3.10/dist-packages (from pydantic>=1.9->chromadb) (0.7.0)\n",
      "Requirement already satisfied: pydantic-core==2.27.1 in /usr/local/lib/python3.10/dist-packages (from pydantic>=1.9->chromadb) (2.27.1)\n",
      "Requirement already satisfied: markdown-it-py>=2.2.0 in /usr/local/lib/python3.10/dist-packages (from rich>=10.11.0->chromadb) (3.0.0)\n",
      "Requirement already satisfied: pygments<3.0.0,>=2.13.0 in /usr/local/lib/python3.10/dist-packages (from rich>=10.11.0->chromadb) (2.18.0)\n",
      "Requirement already satisfied: huggingface-hub<1.0,>=0.16.4 in /usr/local/lib/python3.10/dist-packages (from tokenizers>=0.13.2->chromadb) (0.26.2)\n",
      "Requirement already satisfied: click>=8.0.0 in /usr/local/lib/python3.10/dist-packages (from typer>=0.9.0->chromadb) (8.1.7)\n",
      "Requirement already satisfied: shellingham>=1.3.0 in /usr/local/lib/python3.10/dist-packages (from typer>=0.9.0->chromadb) (1.5.4)\n",
      "Requirement already satisfied: watchfiles>=0.13 in /usr/local/lib/python3.10/dist-packages (from uvicorn[standard]>=0.18.3->chromadb) (0.24.0)\n",
      "Requirement already satisfied: uvloop!=0.15.0,!=0.15.1,>=0.14.0 in /usr/local/lib/python3.10/dist-packages (from uvicorn[standard]>=0.18.3->chromadb) (0.21.0)\n",
      "Requirement already satisfied: python-dotenv>=0.13 in /usr/local/lib/python3.10/dist-packages (from uvicorn[standard]>=0.18.3->chromadb) (1.0.1)\n",
      "Requirement already satisfied: httptools>=0.6.3 in /usr/local/lib/python3.10/dist-packages (from uvicorn[standard]>=0.18.3->chromadb) (0.6.4)\n",
      "Requirement already satisfied: websockets>=10.4 in /usr/local/lib/python3.10/dist-packages (from uvicorn[standard]>=0.18.3->chromadb) (14.1)\n",
      "Requirement already satisfied: konlpy in /usr/local/lib/python3.10/dist-packages (from g2pk->epitran) (0.6.0)\n",
      "Requirement already satisfied: python-mecab-ko in /usr/local/lib/python3.10/dist-packages (from g2pk->epitran) (1.3.7)\n",
      "Requirement already satisfied: nltk in /usr/local/lib/python3.10/dist-packages (from g2pk->epitran) (3.9.1)\n",
      "Requirement already satisfied: cachetools<6.0,>=2.0.0 in /usr/local/lib/python3.10/dist-packages (from google-auth>=1.0.1->kubernetes>=28.1.0->chromadb) (5.5.0)\n",
      "Requirement already satisfied: pyasn1-modules>=0.2.1 in /usr/lib/python3/dist-packages (from google-auth>=1.0.1->kubernetes>=28.1.0->chromadb) (0.2.1)\n",
      "Requirement already satisfied: rsa<5,>=3.1.4 in /usr/local/lib/python3.10/dist-packages (from google-auth>=1.0.1->kubernetes>=28.1.0->chromadb) (4.9)\n",
      "Requirement already satisfied: filelock in /usr/local/lib/python3.10/dist-packages (from huggingface-hub<1.0,>=0.16.4->tokenizers>=0.13.2->chromadb) (3.16.1)\n",
      "Requirement already satisfied: fsspec>=2023.5.0 in /usr/local/lib/python3.10/dist-packages (from huggingface-hub<1.0,>=0.16.4->tokenizers>=0.13.2->chromadb) (2024.10.0)\n",
      "Requirement already satisfied: zipp>=3.20 in /usr/local/lib/python3.10/dist-packages (from importlib-metadata<=8.5.0,>=6.0->opentelemetry-api>=1.2.0->chromadb) (3.21.0)\n",
      "Requirement already satisfied: mdurl~=0.1 in /usr/local/lib/python3.10/dist-packages (from markdown-it-py>=2.2.0->rich>=10.11.0->chromadb) (0.1.2)\n",
      "Requirement already satisfied: exceptiongroup>=1.0.2 in /usr/local/lib/python3.10/dist-packages (from anyio->httpx>=0.27.0->chromadb) (1.2.2)\n",
      "Requirement already satisfied: humanfriendly>=9.1 in /usr/local/lib/python3.10/dist-packages (from coloredlogs->onnxruntime>=1.14.1->chromadb) (10.0)\n",
      "Requirement already satisfied: JPype1>=0.7.0 in /usr/local/lib/python3.10/dist-packages (from konlpy->g2pk->epitran) (1.5.1)\n",
      "Requirement already satisfied: lxml>=4.1.0 in /usr/local/lib/python3.10/dist-packages (from konlpy->g2pk->epitran) (5.3.0)\n",
      "Requirement already satisfied: joblib in /usr/local/lib/python3.10/dist-packages (from nltk->g2pk->epitran) (1.4.2)\n",
      "Requirement already satisfied: python-mecab-ko-dic in /usr/local/lib/python3.10/dist-packages (from python-mecab-ko->g2pk->epitran) (2.1.1.post2)\n",
      "Requirement already satisfied: mpmath<1.4,>=1.1.0 in /usr/local/lib/python3.10/dist-packages (from sympy->onnxruntime>=1.14.1->chromadb) (1.3.0)\n",
      "Requirement already satisfied: pyasn1>=0.1.3 in /usr/lib/python3/dist-packages (from rsa<5,>=3.1.4->google-auth>=1.0.1->kubernetes>=28.1.0->chromadb) (0.4.8)\n",
      "\u001b[33mWARNING: Running pip as the 'root' user can result in broken permissions and conflicting behaviour with the system package manager. It is recommended to use a virtual environment instead: https://pip.pypa.io/warnings/venv\u001b[0m\u001b[33m\n",
      "Hit:1 http://ports.ubuntu.com/ubuntu-ports jammy InRelease\n",
      "Get:2 http://ports.ubuntu.com/ubuntu-ports jammy-updates InRelease [128 kB]\n",
      "Get:3 http://ports.ubuntu.com/ubuntu-ports jammy-backports InRelease [127 kB]\n",
      "Get:4 http://ports.ubuntu.com/ubuntu-ports jammy-security InRelease [129 kB]\n",
      "Get:5 http://ports.ubuntu.com/ubuntu-ports jammy-updates/main arm64 Packages [1937 kB]\n",
      "Get:6 http://ports.ubuntu.com/ubuntu-ports jammy-updates/main Translation-en [372 kB]\n",
      "Get:7 http://ports.ubuntu.com/ubuntu-ports jammy-updates/universe arm64 Packages [1138 kB]\n",
      "Get:8 http://ports.ubuntu.com/ubuntu-ports jammy-updates/universe Translation-en [287 kB]\n",
      "Get:9 http://ports.ubuntu.com/ubuntu-ports jammy-security/main arm64 Packages [1715 kB]\n",
      "Get:10 http://ports.ubuntu.com/ubuntu-ports jammy-security/main Translation-en [312 kB]\n",
      "Get:11 http://ports.ubuntu.com/ubuntu-ports jammy-security/universe arm64 Packages [921 kB]\n",
      "Get:12 http://ports.ubuntu.com/ubuntu-ports jammy-security/universe Translation-en [203 kB]\n",
      "Fetched 7268 kB in 5s (1499 kB/s)                    \n",
      "Reading package lists... Done\n",
      "Reading package lists... Done\n",
      "Building dependency tree... Done\n",
      "Reading state information... Done\n",
      "espeak-ng is already the newest version (1.50+dfsg-10ubuntu0.1).\n",
      "The following packages were automatically installed and are no longer required:\n",
      "  htop libnl-3-200 libnl-genl-3-200\n",
      "Use 'apt autoremove' to remove them.\n",
      "0 upgraded, 0 newly installed, 0 to remove and 14 not upgraded.\n"
     ]
    }
   ],
   "source": [
    "!pip install chromadb epitran panphon numpy\n",
    "# Install espeak-ng based on the operating system\n",
    "import platform\n",
    "from subprocess import check_output, CalledProcessError\n",
    "if platform.system() == \"Linux\":\n",
    "    !apt-get update\n",
    "    !apt-get install -y espeak-ng\n",
    "elif platform.system() == \"Windows\":\n",
    "    try:\n",
    "        check_output(['choco', 'install', 'espeak-ng'], text=True)\n",
    "    except CalledProcessError as e:\n",
    "        print(f\"Error installing espeak-ng: {e}\")"
   ]
  },
  {
   "cell_type": "code",
   "execution_count": 64,
   "metadata": {
    "colab": {
     "base_uri": "https://localhost:8080/"
    },
    "collapsed": true,
    "id": "mw6s7DKV2cIe",
    "outputId": "33619ab0-5b95-40f3-99d8-15f28e5bad25"
   },
   "outputs": [
    {
     "name": "stdout",
     "output_type": "stream",
     "text": [
      "Hit:1 http://ports.ubuntu.com/ubuntu-ports jammy InRelease\n",
      "Hit:2 http://ports.ubuntu.com/ubuntu-ports jammy-updates InRelease\n",
      "Hit:3 http://ports.ubuntu.com/ubuntu-ports jammy-backports InRelease\n",
      "Hit:4 http://ports.ubuntu.com/ubuntu-ports jammy-security InRelease\n",
      "Reading package lists... Done\n",
      "Reading package lists... Done\n",
      "^Cilding dependency tree... 50%\n",
      "fatal: destination path 'flite' already exists and is not an empty directory.\n",
      "/root/Vdb/flite\n",
      "checking build system type... "
     ]
    },
    {
     "name": "stderr",
     "output_type": "stream",
     "text": [
      "/root/.local/lib/python3.10/site-packages/IPython/core/magics/osm.py:417: UserWarning: This is now an optional IPython functionality, setting dhist requires you to install the `pickleshare` library.\n",
      "  self.shell.db['dhist'] = compress_dhist(dhist)[-100:]\n"
     ]
    },
    {
     "name": "stdout",
     "output_type": "stream",
     "text": [
      "aarch64-unknown-linux-gnu\n",
      "checking host system type... aarch64-unknown-linux-gnu\n",
      "checking target system type... aarch64-unknown-linux-gnu\n",
      "checking for gcc... gcc\n",
      "checking whether the C compiler works... yes\n",
      "checking for C compiler default output file name... a.out\n",
      "checking for suffix of executables... \n",
      "checking whether we are cross compiling... no\n",
      "checking for suffix of object files... o\n",
      "checking whether we are using the GNU C compiler... yes\n",
      "checking whether gcc accepts -g... yes\n",
      "checking for gcc option to accept ISO C89... none needed\n",
      "checking for ranlib... ranlib\n",
      "checking for a BSD-compatible install... /bin/install -c\n",
      "checking for ar... ar\n",
      "checking how to run the C preprocessor... gcc -E\n",
      "checking for grep that handles long lines and -e... /bin/grep\n",
      "checking for egrep... /bin/grep -E\n",
      "checking for ANSI C header files... yes\n",
      "checking for sys/types.h... yes\n",
      "checking for sys/stat.h... yes\n",
      "checking for stdlib.h... yes\n",
      "checking for string.h... yes\n",
      "checking for memory.h... yes\n",
      "checking for strings.h... yes\n",
      "checking for inttypes.h... yes\n",
      "checking for stdint.h... yes\n",
      "checking for unistd.h... yes\n",
      "checking whether byte ordering is bigendian... no\n",
      "checking for mmap... yes\n",
      "checking sys/soundcard.h usability... yes\n",
      "checking sys/soundcard.h presence... yes\n",
      "checking for sys/soundcard.h... yes\n",
      "checking machine/soundcard.h usability... no\n",
      "checking machine/soundcard.h presence... no\n",
      "checking for machine/soundcard.h... no\n",
      "checking sys/audioio.h usability... no\n",
      "checking sys/audioio.h presence... no\n",
      "checking for sys/audioio.h... no\n",
      "checking alsa/asoundlib.h usability... no\n",
      "checking alsa/asoundlib.h presence... no\n",
      "checking for alsa/asoundlib.h... no\n",
      "checking for mmsystem.h... no\n",
      "configure: creating ./config.status\n",
      "config.status: creating config/config\n",
      "config.status: creating config/system.mak\n",
      "making in ...\n",
      "making in include ...\n",
      "making in src ...\n",
      "making in src/audio ...\n",
      "making in src/utils ...\n",
      "making in src/regex ...\n",
      "making in src/hrg ...\n",
      "making in src/stats ...\n",
      "making in src/speech ...\n",
      "making in src/lexicon ...\n",
      "making in src/synth ...\n",
      "making in src/wavesynth ...\n",
      "making in src/cg ...\n",
      "making in lang ...\n",
      "making in lang/cmulex ...\n",
      "making in lang/cmu_indic_lex ...\n",
      "making in lang/cmu_grapheme_lex ...\n",
      "making in lang/usenglish ...\n",
      "making in lang/cmu_indic_lang ...\n",
      "making in lang/cmu_grapheme_lang ...\n",
      "making in lang/cmu_us_kal ...\n",
      "making in lang/cmu_time_awb ...\n",
      "making in lang/cmu_us_kal16 ...\n",
      "making in lang/cmu_us_awb ...\n",
      "making in lang/cmu_us_rms ...\n",
      "making in lang/cmu_us_slt ...\n",
      "making in doc ...\n",
      "making in tools ...\n",
      "making in main ...\n",
      "rm -f flite_lang_list.c\n",
      "../tools/make_lang_list usenglish cmu_indic_lang  cmu_grapheme_lang cmulex cmu_indic_lex cmu_grapheme_lex\n",
      "make flite_lang_list.o\n",
      "gcc -g -O2 -Wall      -I../include  -c -o flite_lang_list.o flite_lang_list.c\n",
      "../tools/make_voice_list cmu_us_kal cmu_time_awb cmu_us_kal16 cmu_us_awb cmu_us_rms cmu_us_slt\n",
      "rm -f flite_voice_list.o\n",
      "make flite_voice_list.o\n",
      "gcc -g -O2 -Wall      -I../include  -c -o flite_voice_list.o flite_voice_list.c\n",
      "gcc -g -O2 -Wall     -o ../bin/flite flite_main.o flite_voice_list.o flite_lang_list.o -L../build/aarch64-linux-gnu/lib -lflite_cmu_us_kal -lflite_cmu_time_awb -lflite_cmu_us_kal16 -lflite_cmu_us_awb -lflite_cmu_us_rms -lflite_cmu_us_slt -lflite_usenglish -lflite_cmu_indic_lang -lflite_cmu_grapheme_lang -lflite_cmulex -lflite_cmu_indic_lex -lflite_cmu_grapheme_lex -lflite -lm  \n",
      "../tools/make_voice_list cmu_us_kal cmu_time_awb cmu_us_kal16 cmu_us_awb cmu_us_rms cmu_us_slt\n",
      "rm -f flite_voice_list.o\n",
      "make flite_voice_list.o\n",
      "gcc -g -O2 -Wall      -I../include  -c -o flite_voice_list.o flite_voice_list.c\n",
      "gcc -g -O2 -Wall     -o ../bin/flitevox_info flitevox_info_main.o flite_voice_list.o flite_lang_list.o -L../build/aarch64-linux-gnu/lib -lflite_cmu_us_kal -lflite_cmu_time_awb -lflite_cmu_us_kal16 -lflite_cmu_us_awb -lflite_cmu_us_rms -lflite_cmu_us_slt -lflite_usenglish -lflite_cmu_indic_lang -lflite_cmu_grapheme_lang -lflite_cmulex -lflite_cmu_indic_lex -lflite_cmu_grapheme_lex -lflite -lm  \n",
      "rm -f flite_lang_list.c\n",
      "../tools/make_lang_list usenglish cmu_indic_lang  cmu_grapheme_lang cmulex cmu_indic_lex cmu_grapheme_lex\n",
      "make flite_lang_list.o\n",
      "gcc -g -O2 -Wall      -I../include  -c -o flite_lang_list.o flite_lang_list.c\n",
      "../tools/make_voice_list cmu_us_kal\n",
      "rm -f flite_voice_list.o\n",
      "make flite_voice_list.o\n",
      "gcc -g -O2 -Wall      -I../include  -c -o flite_voice_list.o flite_voice_list.c\n",
      "gcc -g -O2 -Wall     -o ../bin/flite_cmu_us_kal flite_main.o flite_voice_list.o flite_lang_list.o -L../build/aarch64-linux-gnu/lib -lflite_cmu_us_kal -lflite_cmu_time_awb -lflite_cmu_us_kal16 -lflite_cmu_us_awb -lflite_cmu_us_rms -lflite_cmu_us_slt -lflite_usenglish -lflite_cmu_indic_lang -lflite_cmu_grapheme_lang -lflite_cmulex -lflite_cmu_indic_lex -lflite_cmu_grapheme_lex -lflite -lm  \n",
      "rm -f flite_lang_list.c\n",
      "../tools/make_lang_list usenglish cmu_indic_lang  cmu_grapheme_lang cmulex cmu_indic_lex cmu_grapheme_lex\n",
      "make flite_lang_list.o\n",
      "gcc -g -O2 -Wall      -I../include  -c -o flite_lang_list.o flite_lang_list.c\n",
      "../tools/make_voice_list cmu_time_awb\n",
      "rm -f flite_voice_list.o\n",
      "make flite_voice_list.o\n",
      "gcc -g -O2 -Wall      -I../include  -c -o flite_voice_list.o flite_voice_list.c\n",
      "gcc -g -O2 -Wall     -o ../bin/flite_cmu_time_awb flite_main.o flite_voice_list.o flite_lang_list.o -L../build/aarch64-linux-gnu/lib -lflite_cmu_us_kal -lflite_cmu_time_awb -lflite_cmu_us_kal16 -lflite_cmu_us_awb -lflite_cmu_us_rms -lflite_cmu_us_slt -lflite_usenglish -lflite_cmu_indic_lang -lflite_cmu_grapheme_lang -lflite_cmulex -lflite_cmu_indic_lex -lflite_cmu_grapheme_lex -lflite -lm  \n",
      "rm -f flite_lang_list.c\n",
      "../tools/make_lang_list usenglish cmu_indic_lang  cmu_grapheme_lang cmulex cmu_indic_lex cmu_grapheme_lex\n",
      "make flite_lang_list.o\n",
      "gcc -g -O2 -Wall      -I../include  -c -o flite_lang_list.o flite_lang_list.c\n",
      "../tools/make_voice_list cmu_us_kal16\n",
      "rm -f flite_voice_list.o\n",
      "make flite_voice_list.o\n",
      "gcc -g -O2 -Wall      -I../include  -c -o flite_voice_list.o flite_voice_list.c\n",
      "gcc -g -O2 -Wall     -o ../bin/flite_cmu_us_kal16 flite_main.o flite_voice_list.o flite_lang_list.o -L../build/aarch64-linux-gnu/lib -lflite_cmu_us_kal -lflite_cmu_time_awb -lflite_cmu_us_kal16 -lflite_cmu_us_awb -lflite_cmu_us_rms -lflite_cmu_us_slt -lflite_usenglish -lflite_cmu_indic_lang -lflite_cmu_grapheme_lang -lflite_cmulex -lflite_cmu_indic_lex -lflite_cmu_grapheme_lex -lflite -lm  \n",
      "rm -f flite_lang_list.c\n",
      "../tools/make_lang_list usenglish cmu_indic_lang  cmu_grapheme_lang cmulex cmu_indic_lex cmu_grapheme_lex\n",
      "make flite_lang_list.o\n",
      "gcc -g -O2 -Wall      -I../include  -c -o flite_lang_list.o flite_lang_list.c\n",
      "../tools/make_voice_list cmu_us_awb\n",
      "rm -f flite_voice_list.o\n",
      "make flite_voice_list.o\n",
      "gcc -g -O2 -Wall      -I../include  -c -o flite_voice_list.o flite_voice_list.c\n",
      "gcc -g -O2 -Wall     -o ../bin/flite_cmu_us_awb flite_main.o flite_voice_list.o flite_lang_list.o -L../build/aarch64-linux-gnu/lib -lflite_cmu_us_kal -lflite_cmu_time_awb -lflite_cmu_us_kal16 -lflite_cmu_us_awb -lflite_cmu_us_rms -lflite_cmu_us_slt -lflite_usenglish -lflite_cmu_indic_lang -lflite_cmu_grapheme_lang -lflite_cmulex -lflite_cmu_indic_lex -lflite_cmu_grapheme_lex -lflite -lm  \n",
      "rm -f flite_lang_list.c\n",
      "../tools/make_lang_list usenglish cmu_indic_lang  cmu_grapheme_lang cmulex cmu_indic_lex cmu_grapheme_lex\n",
      "make flite_lang_list.o\n",
      "gcc -g -O2 -Wall      -I../include  -c -o flite_lang_list.o flite_lang_list.c\n",
      "../tools/make_voice_list cmu_us_rms\n",
      "rm -f flite_voice_list.o\n",
      "make flite_voice_list.o\n",
      "gcc -g -O2 -Wall      -I../include  -c -o flite_voice_list.o flite_voice_list.c\n",
      "gcc -g -O2 -Wall     -o ../bin/flite_cmu_us_rms flite_main.o flite_voice_list.o flite_lang_list.o -L../build/aarch64-linux-gnu/lib -lflite_cmu_us_kal -lflite_cmu_time_awb -lflite_cmu_us_kal16 -lflite_cmu_us_awb -lflite_cmu_us_rms -lflite_cmu_us_slt -lflite_usenglish -lflite_cmu_indic_lang -lflite_cmu_grapheme_lang -lflite_cmulex -lflite_cmu_indic_lex -lflite_cmu_grapheme_lex -lflite -lm  \n",
      "rm -f flite_lang_list.c\n",
      "../tools/make_lang_list usenglish cmu_indic_lang  cmu_grapheme_lang cmulex cmu_indic_lex cmu_grapheme_lex\n",
      "make flite_lang_list.o\n",
      "gcc -g -O2 -Wall      -I../include  -c -o flite_lang_list.o flite_lang_list.c\n",
      "../tools/make_voice_list cmu_us_slt\n",
      "rm -f flite_voice_list.o\n",
      "make flite_voice_list.o\n",
      "gcc -g -O2 -Wall      -I../include  -c -o flite_voice_list.o flite_voice_list.c\n",
      "gcc -g -O2 -Wall     -o ../bin/flite_cmu_us_slt flite_main.o flite_voice_list.o flite_lang_list.o -L../build/aarch64-linux-gnu/lib -lflite_cmu_us_kal -lflite_cmu_time_awb -lflite_cmu_us_kal16 -lflite_cmu_us_awb -lflite_cmu_us_rms -lflite_cmu_us_slt -lflite_usenglish -lflite_cmu_indic_lang -lflite_cmu_grapheme_lang -lflite_cmulex -lflite_cmu_indic_lex -lflite_cmu_grapheme_lex -lflite -lm  \n",
      "/root/Vdb/flite/testsuite\n",
      "make: 'lex_lookup' is up to date.\n"
     ]
    }
   ],
   "source": [
    "!sudo apt-get update\n",
    "!sudo apt-get install -y build-essential git wget\n",
    "# Clone the Flite repository\n",
    "!git clone https://github.com/festvox/flite.git\n",
    "%cd flite\n",
    "# Build Flite\n",
    "!./configure && make\n",
    "# Build lex_lookup\n",
    "%cd testsuite\n",
    "!make lex_lookup\n",
    "# Move lex_lookup to a global path\n",
    "!sudo cp lex_lookup /usr/local/bin"
   ]
  },
  {
   "cell_type": "code",
   "execution_count": null,
   "metadata": {},
   "outputs": [
    {
     "name": "stdout",
     "output_type": "stream",
     "text": [
      "/root/Vdb\n"
     ]
    },
    {
     "name": "stderr",
     "output_type": "stream",
     "text": [
      "/root/.local/lib/python3.10/site-packages/IPython/core/magics/osm.py:417: UserWarning: This is now an optional IPython functionality, setting dhist requires you to install the `pickleshare` library.\n",
      "  self.shell.db['dhist'] = compress_dhist(dhist)[-100:]\n"
     ]
    }
   ],
   "source": [
    "%cd ..\n",
    "%cd .."
   ]
  },
  {
   "cell_type": "code",
   "execution_count": null,
   "metadata": {
    "colab": {
     "base_uri": "https://localhost:8080/"
    },
    "id": "qcp8eFBMGFsM",
    "outputId": "ae1881fd-6398-476d-f6fa-e9c42cc4dc11"
   },
   "outputs": [
    {
     "name": "stdout",
     "output_type": "stream",
     "text": [
      "/root/Vdb\n"
     ]
    }
   ],
   "source": [
    "!pwd"
   ]
  },
  {
   "cell_type": "code",
   "execution_count": null,
   "metadata": {
    "colab": {
     "base_uri": "https://localhost:8080/"
    },
    "collapsed": true,
    "id": "b0bhvR0JGGfB",
    "outputId": "a70c4f11-cce5-4eb7-89e7-541c8971d930"
   },
   "outputs": [
    {
     "name": "stdout",
     "output_type": "stream",
     "text": [
      "Mounted at /content/drive\n"
     ]
    }
   ],
   "source": [
    "from google.colab import drive\n",
    "drive.mount('/content/drive')"
   ]
  },
  {
   "cell_type": "markdown",
   "metadata": {
    "id": "j8U5nSUgGRZN"
   },
   "source": [
    "# To IPA conversion:-"
   ]
  },
  {
   "cell_type": "code",
   "execution_count": 2,
   "metadata": {
    "id": "vd4uzfcR2Vbc"
   },
   "outputs": [],
   "source": [
    "from epitran import Epitran\n",
    "\n",
    "# Initialize Epitran for English\n",
    "english_epi = Epitran('eng-Latn')\n",
    "\n",
    "def english_to_ipa(text):\n",
    "    \"\"\"Converts English text to IPA using Epitran.\"\"\"\n",
    "    try:\n",
    "        return english_epi.transliterate(text)\n",
    "    except Exception as e:\n",
    "        return f\"Error: {e}\"\n",
    "\n",
    "# Initialize Epitran for Hindi\n",
    "hindi_epi = Epitran('hin-Deva')\n",
    "\n",
    "def hindi_to_ipa(text):\n",
    "    \"\"\"Converts Hindi text to IPA using Epitran.\"\"\"\n",
    "    try:\n",
    "        return hindi_epi.transliterate(text)\n",
    "    except Exception as e:\n",
    "        return f\"Error: {e}\""
   ]
  },
  {
   "cell_type": "code",
   "execution_count": null,
   "metadata": {},
   "outputs": [],
   "source": [
    "from subprocess import check_output, CalledProcessError\n",
    "from epitran import Epitran\n",
    "def english_to_ipa(text):\n",
    "    \"\"\"Converts English text to IPA using espeak-ng.\"\"\"\n",
    "    try:\n",
    "        ipa = check_output(['espeak-ng', '-q', '--ipa', text], text=True).strip()\n",
    "        return ipa\n",
    "    except CalledProcessError as e:\n",
    "        return f\"Error: {e}\"\n",
    "hindi_epi = Epitran('hin-Deva')\n",
    "def hindi_to_ipa(text):\n",
    "    \"\"\"Converts Hindi text to IPA using epitran.\"\"\"\n",
    "    try:\n",
    "        return hindi_epi.transliterate(text)\n",
    "    except Exception as e:\n",
    "        return f\"Error: {e}\""
   ]
  },
  {
   "cell_type": "code",
   "execution_count": null,
   "metadata": {
    "colab": {
     "base_uri": "https://localhost:8080/"
    },
    "id": "tvbqhr1M5kl7",
    "outputId": "51b711a2-dca0-4c81-f522-e48d35a9a570"
   },
   "outputs": [
    {
     "name": "stdout",
     "output_type": "stream",
     "text": [
      "ˈɑːði\n"
     ]
    }
   ],
   "source": [
    "print(english_to_ipa(\"aarthy\"))"
   ]
  },
  {
   "cell_type": "code",
   "execution_count": 65,
   "metadata": {
    "colab": {
     "base_uri": "https://localhost:8080/"
    },
    "id": "Ptkm_8V2G6h-",
    "outputId": "446778ce-667d-413e-ce0e-b83db899654c"
   },
   "outputs": [
    {
     "name": "stdout",
     "output_type": "stream",
     "text": [
      "ɑɹθi\n"
     ]
    }
   ],
   "source": [
    "print(english_to_ipa(\"aarthy\"))"
   ]
  },
  {
   "cell_type": "markdown",
   "metadata": {
    "id": "oroXviy4eD3o"
   },
   "source": [
    "# Database actions:-"
   ]
  },
  {
   "cell_type": "code",
   "execution_count": 3,
   "metadata": {
    "id": "9_I7SwtEdVsw"
   },
   "outputs": [],
   "source": [
    "import panphon\n",
    "import panphon.distance\n",
    "import numpy as np\n",
    "from chromadb.config import Settings\n",
    "from chromadb import Client\n",
    "import chromadb\n",
    "import os\n",
    "# Initialize PanPhon\n",
    "ft = panphon.FeatureTable()"
   ]
  },
  {
   "cell_type": "code",
   "execution_count": 4,
   "metadata": {
    "id": "OrCOu3tXd63p"
   },
   "outputs": [],
   "source": [
    "# Specify the persistence directory\n",
    "persist_directory = \"Vdb(60k)epi\"\n",
    "os.makedirs(persist_directory, exist_ok=True)\n",
    "client = chromadb.PersistentClient(path=persist_directory)"
   ]
  },
  {
   "cell_type": "markdown",
   "metadata": {
    "id": "BoBI6U9EWNI0"
   },
   "source": [
    "## To list collections:-"
   ]
  },
  {
   "cell_type": "code",
   "execution_count": 5,
   "metadata": {
    "colab": {
     "base_uri": "https://localhost:8080/"
    },
    "id": "_x3tWZF2WKxR",
    "outputId": "8c810da3-28e1-4447-9cee-bd243d967a55"
   },
   "outputs": [
    {
     "name": "stdout",
     "output_type": "stream",
     "text": [
      "Collection(name=vdb_l2)\n",
      "Collection(name=vdb_cosine)\n",
      "Collection(name=vdb_ip)\n"
     ]
    }
   ],
   "source": [
    "# Get a list of all collection names\n",
    "collection_names = client.list_collections()\n",
    "\n",
    "# Print the collection names\n",
    "for name in collection_names:\n",
    "    print(name)"
   ]
  },
  {
   "cell_type": "markdown",
   "metadata": {
    "id": "mR1imrZJdpjJ"
   },
   "source": [
    "## To create a new vdb:-"
   ]
  },
  {
   "cell_type": "code",
   "execution_count": 32,
   "metadata": {
    "collapsed": true,
    "id": "O28R00YudmLP"
   },
   "outputs": [],
   "source": [
    "# Create a ChromaDB collection\n",
    "# collection = client.create_collection( name=\"vdb_l2\")\n",
    "collection = client.create_collection( name=\"vdb_ip\",metadata={\"hnsw:space\": \"ip\"} )\n"
   ]
  },
  {
   "cell_type": "markdown",
   "metadata": {
    "id": "GvnIDJblWVn_"
   },
   "source": [
    "#To delete a collection:-"
   ]
  },
  {
   "cell_type": "code",
   "execution_count": null,
   "metadata": {
    "id": "yi1YHroMSzbG"
   },
   "outputs": [],
   "source": [
    "# client.delete_collection(name=\"vdb_ip\")"
   ]
  },
  {
   "cell_type": "markdown",
   "metadata": {
    "id": "f9YuNNmnduJv"
   },
   "source": [
    "## or load an existing db:-"
   ]
  },
  {
   "cell_type": "code",
   "execution_count": 6,
   "metadata": {
    "id": "b1595_rHdjVW"
   },
   "outputs": [],
   "source": [
    "collection = client.get_collection(\"vdb_l2\")"
   ]
  },
  {
   "cell_type": "code",
   "execution_count": 16,
   "metadata": {
    "id": "RV1p1T1wZmQp"
   },
   "outputs": [],
   "source": [
    "collection = client.get_collection(\"vdb_cosine\")"
   ]
  },
  {
   "cell_type": "code",
   "execution_count": null,
   "metadata": {
    "id": "vo1rdgT9ZmDV"
   },
   "outputs": [],
   "source": [
    "collection = client.get_collection(\"vdb_ip\")"
   ]
  },
  {
   "cell_type": "markdown",
   "metadata": {
    "id": "th5u4v96eaDq"
   },
   "source": [
    "## Function definitions:-"
   ]
  },
  {
   "cell_type": "code",
   "execution_count": null,
   "metadata": {
    "id": "l8K3fLso2cz0"
   },
   "outputs": [],
   "source": [
    "# Function to compute the average feature vector (same as before)\n",
    "def ipa2vec(ipa):\n",
    "    vectors = ft.word_to_vector_list(ipa, numeric=True)\n",
    "    if not vectors:\n",
    "        return np.ones(ft.num_features) * 0.1  # Handle empty vectors\n",
    "    processed_vectors = np.array(vectors)\n",
    "    avg_vector = np.mean(processed_vectors, axis=0)\n",
    "    return avg_vector.tolist()  # ChromaDB needs lists\n",
    "\n",
    "\n",
    "def embedder(names, pronunciations):\n",
    "    \"\"\"Adds pronunciations to the ChromaDB collection.\"\"\"\n",
    "\n",
    "    if len(names) != len(pronunciations):\n",
    "        raise ValueError(\"Names and pronunciations lists must have the same length.\")\n",
    "\n",
    "    embeddings = [ipa2vec(ipa) for ipa in pronunciations]\n",
    "    collection.add(\n",
    "        documents=names,\n",
    "        embeddings=embeddings,\n",
    "        metadatas=[{\"ipa\": ipa} for ipa in pronunciations],  # Store IPA for reference\n",
    "        ids=[str(i) for i in range(len(names))] # provide IDs to avoid issues\n",
    "    )\n"
   ]
  },
  {
   "cell_type": "code",
   "execution_count": 28,
   "metadata": {},
   "outputs": [],
   "source": [
    "import random\n",
    "\n",
    "def update_age():\n",
    "    # Generate random ages for each document in the collection\n",
    "    random_ages = [random.randint(18, 70) for _ in range(collection.count())]\n",
    "    \n",
    "    # Update the collection with new ages\n",
    "    for i, age in enumerate(random_ages):\n",
    "        collection.update(\n",
    "            ids=[str(i)],\n",
    "            metadatas=[{\"age\": age}]\n",
    "        )\n",
    "\n",
    "update_age()"
   ]
  },
  {
   "cell_type": "code",
   "execution_count": 10,
   "metadata": {},
   "outputs": [
    {
     "name": "stdout",
     "output_type": "stream",
     "text": [
      "Total number of documents in the collection: 55691\n"
     ]
    }
   ],
   "source": [
    "# Get the total number of documents in the collection\n",
    "total_documents = collection.count()\n",
    "print(f\"Total number of documents in the collection: {total_documents}\")"
   ]
  },
  {
   "cell_type": "code",
   "execution_count": 49,
   "metadata": {},
   "outputs": [],
   "source": [
    "def chromaquerrier(query_ipa, n_results=5):\n",
    "    \"\"\"Retrieves similar names from the ChromaDB vdb.\"\"\"\n",
    "    query_embedding = ipa2vec(query_ipa)\n",
    "    results = collection.query(\n",
    "        query_embeddings=[query_embedding],\n",
    "        n_results=n_results,\n",
    "        include=[\"distances\", \"metadatas\", \"documents\"] #include additional data\n",
    "    )\n",
    "    return results"
   ]
  },
  {
   "cell_type": "markdown",
   "metadata": {
    "id": "Yc1jiD-0ZXqp"
   },
   "source": [
    "# Querrier with weighted levenshtein edit distance:-"
   ]
  },
  {
   "cell_type": "code",
   "execution_count": 46,
   "metadata": {
    "id": "I46iFZv1ZWM3"
   },
   "outputs": [],
   "source": [
    "def querrier(query_ipa, n_results=30, weight_chromadb=0.7, weight_edit_distance=0.3, cutoff=0.7):\n",
    "    \"\"\"Retrieves similar names with combined ChromaDB and edit distance scoring.\"\"\"\n",
    "    query_embedding = ipa2vec(query_ipa)\n",
    "    results = collection.query(\n",
    "        query_embeddings=[query_embedding],\n",
    "        include=[\"distances\", \"metadatas\", \"documents\"]\n",
    "    )\n",
    "    dst = panphon.distance.Distance()\n",
    "    # Calculate combined scores\n",
    "    scores = []\n",
    "    for i in range(len(results[\"documents\"][0])):\n",
    "        chromadb_distance = results[\"distances\"][0][i]\n",
    "        metadata = results[\"metadatas\"][0][i]\n",
    "\n",
    "        if metadata and \"ipa\" in metadata:\n",
    "            edit_distance = dst.weighted_feature_edit_distance(query_ipa, metadata[\"ipa\"])\n",
    "            combined_score = weight_chromadb * chromadb_distance + weight_edit_distance * edit_distance\n",
    "            if collection.name == \"vdb_l2\" and combined_score > cutoff:\n",
    "                continue  # Skip results with a combined score greater than cutoff\n",
    "            scores.append((i, combined_score))  # Store index and score\n",
    "\n",
    "    # Sort by combined scores and select top results\n",
    "    scores.sort(key=lambda item: item[1])  # Sort by score\n",
    "    top_indices = [item[0] for item in scores[:n_results]]\n",
    "\n",
    "    # Extract top results\n",
    "    filtered_results = {\n",
    "        \"documents\": [results[\"documents\"][0][i] for i in top_indices],\n",
    "        \"metadatas\": [results[\"metadatas\"][0][i] for i in top_indices],\n",
    "        \"distances\": [results[\"distances\"][0][i] for i in top_indices],\n",
    "    }\n",
    "    return filtered_results"
   ]
  },
  {
   "cell_type": "markdown",
   "metadata": {
    "id": "LQOe5TFlwLsY"
   },
   "source": [
    "## To input data to the database:-"
   ]
  },
  {
   "cell_type": "markdown",
   "metadata": {
    "id": "mM1Pwc-LxG4x"
   },
   "source": [
    "### To input English data :-"
   ]
  },
  {
   "cell_type": "code",
   "execution_count": 18,
   "metadata": {
    "id": "KwtljwIIc3NX"
   },
   "outputs": [],
   "source": [
    "# Define the file path\n",
    "input_path = \"/content/Names.txt\"\n",
    "# Read names from file\n",
    "with open(input_path, \"r\") as file:\n",
    "    names = [line.strip() for line in file.readlines()]\n",
    "\n",
    "# Convert names to IPA\n",
    "ipas = [english_to_ipa(name) for name in names]"
   ]
  },
  {
   "cell_type": "code",
   "execution_count": null,
   "metadata": {
    "id": "UXYKfxFV-lXF"
   },
   "outputs": [],
   "source": [
    "# Store the IPA list as a binary file\n",
    "ipas=[]\n",
    "import pickle\n",
    "ipa_binary_output_path = \"ipas_epi.pkl\"\n",
    "# with open(ipa_binary_output_path, \"wb\") as file:\n",
    "#     pickle.dump(ipas, file)\n",
    "# To read the IPA list back from the binary file\n",
    "with open(ipa_binary_output_path, \"rb\") as file:\n",
    "    ipas = pickle.load(file)"
   ]
  },
  {
   "cell_type": "code",
   "execution_count": 19,
   "metadata": {
    "colab": {
     "base_uri": "https://localhost:8080/"
    },
    "id": "OX0aAbwKP_K3",
    "outputId": "9bcf24c6-cbd4-481d-9860-918e5d8f8a19"
   },
   "outputs": [
    {
     "name": "stdout",
     "output_type": "stream",
     "text": [
      "[]\n"
     ]
    }
   ],
   "source": [
    "print(ipas)"
   ]
  },
  {
   "cell_type": "markdown",
   "metadata": {
    "id": "2bH6fTuyHBBB"
   },
   "source": [
    "#To enter large data:-(>40k)"
   ]
  },
  {
   "cell_type": "markdown",
   "metadata": {
    "id": "PcgXQRoWHHVH"
   },
   "source": [
    "chroma won't allow u to add >40k entries in a single add request, so u have to do it in batches and also think about fixing the unique id problem"
   ]
  },
  {
   "cell_type": "code",
   "execution_count": 33,
   "metadata": {
    "colab": {
     "base_uri": "https://localhost:8080/"
    },
    "id": "XidfgaI_B_t0",
    "outputId": "74a158f7-0358-4626-c7f6-925d9c34b805"
   },
   "outputs": [
    {
     "name": "stdout",
     "output_type": "stream",
     "text": [
      "Added batch 1 of 2\n",
      "Added batch 2 of 2\n"
     ]
    }
   ],
   "source": [
    "import math\n",
    "\n",
    "# ... (your existing code) ...\n",
    "\n",
    "# Calculate the number of batches\n",
    "batch_size = 40000  # Choose a batch size less than the maximum\n",
    "num_batches = math.ceil(len(names) / batch_size)\n",
    "\n",
    "# Add data in batches\n",
    "for i in range(num_batches):\n",
    "    start_idx = i * batch_size\n",
    "    end_idx = min((i + 1) * batch_size, len(names))\n",
    "\n",
    "    batch_names = names[start_idx:end_idx]\n",
    "    batch_ipas = ipas[start_idx:end_idx]\n",
    "    batch_embeddings = [ipa2vec(ipa) for ipa in batch_ipas]\n",
    "\n",
    "    # Generate unique IDs for each document in the batch\n",
    "    batch_ids = [str(j) for j in range(start_idx, end_idx)]\n",
    "\n",
    "    # Create metadata for the batch\n",
    "    batch_metadatas = [{\"ipa\": ipa,\"age\":\"69\"} for ipa in batch_ipas]\n",
    "\n",
    "    collection.add(\n",
    "        documents=batch_names,\n",
    "        embeddings=batch_embeddings,\n",
    "        ids=batch_ids,\n",
    "        metadatas=batch_metadatas  # Add metadatas here\n",
    "    )\n",
    "    print(f\"Added batch {i + 1} of {num_batches}\")"
   ]
  },
  {
   "cell_type": "markdown",
   "metadata": {
    "id": "f8hpq-ZXBmKe"
   },
   "source": [
    "#Else:-"
   ]
  },
  {
   "cell_type": "code",
   "execution_count": null,
   "metadata": {
    "id": "_NfBiFrU-MJ1"
   },
   "outputs": [],
   "source": [
    "# Add pronunciations to the ChromaDB collection\n",
    "embedder(names, ipas)\n",
    "\n",
    "# all_embeddings = collection.get(include=[\"embeddings\"])[\"embeddings\"]\n",
    "# print(\"All embeddings:\", all_embeddings)"
   ]
  },
  {
   "cell_type": "markdown",
   "metadata": {
    "id": "UtKjmqtMxhrX"
   },
   "source": [
    "### To input hindi data :-"
   ]
  },
  {
   "cell_type": "code",
   "execution_count": null,
   "metadata": {
    "id": "ww4UvhaVw-Oi"
   },
   "outputs": [],
   "source": [
    "# Define the file path\n",
    "input_path = \"sname.txt\"\n",
    "# Read names from file\n",
    "with open(input_path, \"r\") as file:\n",
    "    names = [line.strip() for line in file.readlines()]\n",
    "\n",
    "# Convert names to IPA\n",
    "ipas = [hindi_to_ipa(name) for name in names]\n",
    "\n",
    "# Add pronunciations to the ChromaDB collection\n",
    "embedder(names, ipas)\n",
    "\n",
    "all_embeddings = collection.get(include=[\"embeddings\"])[\"embeddings\"]\n",
    "# print(\"All embeddings:\", all_embeddings)"
   ]
  },
  {
   "cell_type": "markdown",
   "metadata": {
    "id": "I9im3UaA995-"
   },
   "source": [
    "# Querry:-"
   ]
  },
  {
   "cell_type": "code",
   "execution_count": 98,
   "metadata": {
    "colab": {
     "base_uri": "https://localhost:8080/"
    },
    "id": "69jPXYVQ95no",
    "outputId": "f92104b2-01bb-486f-96bd-8a75675415e4"
   },
   "outputs": [
    {
     "name": "stdout",
     "output_type": "stream",
     "text": [
      "['Aadi', 'Adi']\n",
      "[{'age': '69', 'ipa': 'ɑdi'}, {'age': '69', 'ipa': 'ɑdi'}]\n",
      "[0.4444443881511688, 0.4444443881511688]\n"
     ]
    }
   ],
   "source": [
    "query_ipa = \"ˈɑːdi\"\n",
    "results = querrier(query_ipa)\n",
    "print(results['documents'])\n",
    "print(results['metadatas'])\n",
    "print(results['distances'])"
   ]
  },
  {
   "cell_type": "code",
   "execution_count": 9,
   "metadata": {},
   "outputs": [
    {
     "name": "stdout",
     "output_type": "stream",
     "text": [
      "The IPA representation of 'Aarav' is: æɹɑv\n",
      "Results for 'Aarav':\n",
      "['Aarav']\n",
      "distance:- [0.0]\n",
      "The IPA representation of 'Vivaan' is: vɪvɑn\n",
      "Results for 'Vivaan':\n",
      "['Vivaan']\n",
      "distance:- [0.0]\n",
      "The IPA representation of 'Aditya' is: ɑdɪtjə\n",
      "Results for 'Aditya':\n",
      "['Aditya', 'Aaditya', 'Aadittya']\n",
      "distance:- [0.0, 0.1388888955116272, 0.1388888955116272]\n",
      "The IPA representation of 'Vihaan' is: vihɑn\n",
      "Results for 'Vihaan':\n",
      "['Vihaan', 'Vyhaan']\n",
      "distance:- [0.0, 0.1600000113248825]\n",
      "The IPA representation of 'Arjun' is: ɑɹd͡ʒən\n",
      "Results for 'Arjun':\n",
      "['Arjun', 'Arjan']\n",
      "distance:- [0.0, 0.0]\n",
      "The IPA representation of 'Sai' is: saj\n",
      "Results for 'Sai':\n",
      "['Cy', 'Sai']\n",
      "distance:- [0.0, 0.0]\n",
      "The IPA representation of 'Reyansh' is: ɹejənʃ\n",
      "Results for 'Reyansh':\n",
      "['Rayansh', 'Reyansh', 'Reyaansh']\n",
      "distance:- [0.0, 0.0, 0.0]\n",
      "The IPA representation of 'Ayaan' is: ajɑn\n",
      "Results for 'Ayaan':\n",
      "['Ayaan']\n",
      "distance:- [0.0]\n",
      "The IPA representation of 'Krishna' is: kɹɪʃnə\n",
      "Results for 'Krishna':\n",
      "['Krishna', 'Chrishna']\n",
      "distance:- [0.0, 0.0]\n",
      "The IPA representation of 'Ishaan' is: ɪʃɑn\n",
      "Results for 'Ishaan':\n",
      "['Ishaan', 'Eshaan']\n",
      "distance:- [0.0, 0.25]\n",
      "The IPA representation of 'Shaurya' is: ʃɔɹjə\n",
      "Results for 'Shaurya':\n",
      "['Shaurya', 'Shorya', 'Shaurya']\n",
      "distance:- [0.0, 0.0, 0.0]\n",
      "The IPA representation of 'Atharv' is: æθɑɹv\n",
      "Results for 'Atharv':\n",
      "['Atharv']\n",
      "distance:- [0.0]\n",
      "The IPA representation of 'Dhruv' is: dɹəv\n",
      "Results for 'Dhruv':\n",
      "['Dhruv', 'Druv']\n",
      "distance:- [0.0, 0.25]\n",
      "The IPA representation of 'Kabir' is: kəbɹ\n",
      "Results for 'Kabir':\n",
      "['Kabir', 'Kabir']\n",
      "distance:- [0.0, 0.0]\n",
      "The IPA representation of 'Rudra' is: ɹʌdɹə\n",
      "Results for 'Rudra':\n",
      "['Aarudhra', 'Rudra', 'Rudhra']\n",
      "distance:- [0.0, 0.0, 0.0]\n",
      "The IPA representation of 'Aarush' is: ɑɹʃ\n",
      "Results for 'Aarush':\n",
      "['Aarsh', 'Aarush']\n",
      "distance:- [0.0, 0.0]\n",
      "The IPA representation of 'Anay' is: ɑnej\n",
      "Results for 'Anay':\n",
      "['Aanay', 'Ahnay', 'Anaye', 'Anay']\n",
      "distance:- [0.0, 0.0, 0.0, 0.0]\n",
      "The IPA representation of 'Om' is: əm\n",
      "Results for 'Om':\n",
      "['Om']\n",
      "distance:- [0.0]\n",
      "The IPA representation of 'Parth' is: pɑɹθ\n",
      "Results for 'Parth':\n",
      "['Paarth', 'Parth']\n",
      "distance:- [0.0, 0.0]\n",
      "The IPA representation of 'Rishi' is: ɹɪʃi\n",
      "Results for 'Rishi':\n",
      "['Rishi', 'Rishy', 'Reshee', 'Reshi']\n",
      "distance:- [0.0, 0.0, 0.25, 0.25]\n"
     ]
    }
   ],
   "source": [
    "# List of 20 Indian names\n",
    "indian_names = [\n",
    "    \"Aarav\", \"Vivaan\", \"Aditya\", \"Vihaan\", \"Arjun\",\n",
    "    \"Sai\", \"Reyansh\", \"Ayaan\", \"Krishna\", \"Ishaan\",\n",
    "    \"Shaurya\", \"Atharv\", \"Dhruv\", \"Kabir\", \"Rudra\",\n",
    "    \"Aarush\", \"Anay\", \"Om\", \"Parth\", \"Rishi\"\n",
    "]\n",
    "\n",
    "# Loop through each name, convert to IPA, and query the ChromaDB collection\n",
    "for name in indian_names:\n",
    "    ipa = english_to_ipa(name)\n",
    "    print(f\"The IPA representation of '{name}' is: {ipa}\")\n",
    "    results = querrier(ipa)\n",
    "    print(f\"Results for '{name}':\")\n",
    "    print(results['documents'])\n",
    "    # print(results['metadatas'])\n",
    "    print(\"distance:-\",results['distances'])\n",
    "indian_names = [\n",
    "    \"Aarav\", \"Vivaan\", \"Aditya\", \"Vihaan\", \"Arjun\",\n",
    "    \"Sai\", \"Reyansh\", \"Ayaan\", \"Krishna\", \"Ishaan\",\n",
    "    \"Shaurya\", \"Atharv\", \"Dhruv\", \"Kabir\", \"Rudra\",\n",
    "    \"Aarush\", \"Anay\", \"Om\", \"Parth\", \"Rishi\"\n",
    "]\n"
   ]
  },
  {
   "cell_type": "code",
   "execution_count": 32,
   "metadata": {},
   "outputs": [],
   "source": [
    "def detect_language(text):\n",
    "    \"\"\"Detects if the input text is Hindi or English.\"\"\"\n",
    "    if any('\\u0900' <= char <= '\\u097F' for char in text):\n",
    "        return 'hindi'\n",
    "    else:\n",
    "        return 'english'"
   ]
  },
  {
   "cell_type": "code",
   "execution_count": 48,
   "metadata": {
    "colab": {
     "base_uri": "https://localhost:8080/"
    },
    "id": "FFul7hKkBBEX",
    "outputId": "c062b77e-5108-4e34-f85f-82caa533a564"
   },
   "outputs": [
    {
     "name": "stdout",
     "output_type": "stream",
     "text": [
      "hindi\n",
      "The IPA representation of 'गौतमी' is: ɡɔːtmiː\n",
      "The IPA representation of 'गौतमी' is: ɡɔːtmiː\n",
      "[]\n",
      "[]\n",
      "[]\n"
     ]
    }
   ],
   "source": [
    "# prompt: so write code to input a name in english from the user, use the espeak -ng to convert it to ipa and then querry it\n",
    "name=input()\n",
    "print(language)\n",
    "language = detect_language(name)\n",
    "\n",
    "# Convert the name to IPA based on the detected language\n",
    "if language == 'hindi':\n",
    "    ipa = hindi_to_ipa(name)\n",
    "    cutoff = 10\n",
    "else:\n",
    "    ipa = english_to_ipa(name)\n",
    "    cutoff = 0.7\n",
    "\n",
    "print(f\"The IPA representation of '{name}' is: {ipa}\")\n",
    "\n",
    "# Query the ChromaDB collection\n",
    "results = querrier(ipa,cutoff=cutoff)\n",
    "print(f\"The IPA representation of '{name}' is: {ipa}\")\n",
    "\n",
    "# Query the ChromaDB collection\n",
    "results = querrier(ipa)\n",
    "print(results['documents'])\n",
    "print(results['metadatas'])\n",
    "print(results['distances'])"
   ]
  },
  {
   "cell_type": "code",
   "execution_count": 50,
   "metadata": {
    "colab": {
     "base_uri": "https://localhost:8080/"
    },
    "id": "6fVuSKvYD9hR",
    "outputId": "5aca4918-90ad-46a5-c2c3-16236f00740b"
   },
   "outputs": [
    {
     "name": "stdout",
     "output_type": "stream",
     "text": [
      "The IPA representation of 'गौतमी' is: ɡɔːtmiː\n",
      "[['Agampreet', 'Muttuk Kumaran', 'Kumbhkarna', 'Kruban', 'Pragnika']]\n",
      "[[{'age': 41, 'ipa': 'əɡəmpɹit'}, {'age': 70, 'ipa': 'mʌtək kumɹ̩æn'}, {'age': 22, 'ipa': 'kʌmbkɑɹnə'}, {'age': 37, 'ipa': 'kɹʌbən'}, {'age': 42, 'ipa': 'pɹæɡnɪkə'}]]\n",
      "[[0.8537500500679016, 0.9203306436538696, 0.9204938411712646, 0.9377778768539429, 0.9412500262260437]]\n"
     ]
    }
   ],
   "source": [
    "# Get user input\n",
    "# example :- Enter a name in Hindi:अधि\n",
    "name = input(\"Enter a name in Hindi: \")\n",
    "\n",
    "# Convert the name to IPA\n",
    "ipa = hindi_to_ipa(name)\n",
    "\n",
    "print(f\"The IPA representation of '{name}' is: {ipa}\")\n",
    "\n",
    "# Query the ChromaDB collection\n",
    "results = chromaquerrier(ipa)\n",
    "print(results['documents'])\n",
    "print(results['metadatas'])\n",
    "print(results['distances'])"
   ]
  },
  {
   "cell_type": "code",
   "execution_count": null,
   "metadata": {},
   "outputs": [],
   "source": [
    "# Get user input\n",
    "# example :- Enter a name in Hindi:अधि\n",
    "name = input(\"Enter a name in English: \")\n",
    "\n",
    "# Convert the name to IPA\n",
    "ipa = hindi_to_ipa(name)\n",
    "\n",
    "print(f\"The IPA representation of '{name}' is: {ipa}\")\n",
    "\n",
    "# Query the ChromaDB collection\n",
    "results = chromaquerrier(ipa)\n",
    "print(results['documents'])\n",
    "print(results['metadatas'])\n",
    "print(results['distances'])"
   ]
  }
 ],
 "metadata": {
  "accelerator": "GPU",
  "colab": {
   "gpuType": "T4",
   "provenance": []
  },
  "kernelspec": {
   "display_name": "Python 3",
   "name": "python3"
  },
  "language_info": {
   "codemirror_mode": {
    "name": "ipython",
    "version": 3
   },
   "file_extension": ".py",
   "mimetype": "text/x-python",
   "name": "python",
   "nbconvert_exporter": "python",
   "pygments_lexer": "ipython3",
   "version": "3.10.12"
  }
 },
 "nbformat": 4,
 "nbformat_minor": 0
}
